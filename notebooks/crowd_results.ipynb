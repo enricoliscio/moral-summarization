{
 "cells": [
  {
   "cell_type": "code",
   "execution_count": null,
   "metadata": {},
   "outputs": [],
   "source": [
    "import sys\n",
    "sys.path.append('/home/redacted/dev/moral-summarization')\n",
    "\n",
    "from moral_summarization.crowd import *\n",
    "from moral_summarization.utils import *\n",
    "from moral_summarization.data_utils import print_mean_max\n",
    "\n",
    "base_folder = '../crowd_evaluation/prolific_results'\n",
    "\n",
    "scores_df = pd.read_csv('../results/crowd_evaluation/annotators_scores.csv')\n",
    "article_scores = pd.read_csv('../results/crowd_evaluation/article_scores.csv')"
   ]
  },
  {
   "cell_type": "code",
   "execution_count": 3,
   "metadata": {},
   "outputs": [
    {
     "name": "stdout",
     "output_type": "stream",
     "text": [
      "vanilla: 3.15\n",
      "=====================================\n",
      "simple: 3.22\n",
      "=====================================\n",
      "cot: 3.20\n",
      "=====================================\n",
      "oracle: 3.33\n",
      "=====================================\n",
      "class: 3.40\n",
      "=====================================\n"
     ]
    }
   ],
   "source": [
    "print_means(article_scores)"
   ]
  },
  {
   "cell_type": "code",
   "execution_count": 4,
   "metadata": {},
   "outputs": [
    {
     "name": "stdout",
     "output_type": "stream",
     "text": [
      "vanilla: 0.66\n",
      "=====================================\n",
      "simple: 0.70\n",
      "=====================================\n",
      "cot: 0.74\n",
      "=====================================\n",
      "oracle: 0.64\n",
      "=====================================\n",
      "class: 0.67\n",
      "=====================================\n"
     ]
    }
   ],
   "source": [
    "print_std(article_scores)"
   ]
  },
  {
   "cell_type": "code",
   "execution_count": 5,
   "metadata": {},
   "outputs": [
    {
     "name": "stdout",
     "output_type": "stream",
     "text": [
      "vanilla\n",
      "Max number of highlights: 31\n",
      "Mean number of highlights: 6.60 \\pm 4.74\n",
      "=====================================\n"
     ]
    }
   ],
   "source": [
    "print_mean_max(scores_df)"
   ]
  },
  {
   "cell_type": "code",
   "execution_count": 6,
   "metadata": {},
   "outputs": [
    {
     "data": {
      "text/html": [
       "<div>\n",
       "<style scoped>\n",
       "    .dataframe tbody tr th:only-of-type {\n",
       "        vertical-align: middle;\n",
       "    }\n",
       "\n",
       "    .dataframe tbody tr th {\n",
       "        vertical-align: top;\n",
       "    }\n",
       "\n",
       "    .dataframe thead th {\n",
       "        text-align: right;\n",
       "    }\n",
       "</style>\n",
       "<table border=\"1\" class=\"dataframe\">\n",
       "  <thead>\n",
       "    <tr style=\"text-align: right;\">\n",
       "      <th></th>\n",
       "      <th>vanilla</th>\n",
       "      <th>simple</th>\n",
       "      <th>cot</th>\n",
       "      <th>oracle</th>\n",
       "      <th>class</th>\n",
       "    </tr>\n",
       "  </thead>\n",
       "  <tbody>\n",
       "    <tr>\n",
       "      <th>vanilla</th>\n",
       "      <td>0.000</td>\n",
       "      <td>0.323</td>\n",
       "      <td>0.733</td>\n",
       "      <td>0.030</td>\n",
       "      <td>0.007</td>\n",
       "    </tr>\n",
       "    <tr>\n",
       "      <th>simple</th>\n",
       "      <td>0.323</td>\n",
       "      <td>0.000</td>\n",
       "      <td>0.760</td>\n",
       "      <td>0.036</td>\n",
       "      <td>0.006</td>\n",
       "    </tr>\n",
       "    <tr>\n",
       "      <th>cot</th>\n",
       "      <td>0.733</td>\n",
       "      <td>0.760</td>\n",
       "      <td>0.000</td>\n",
       "      <td>0.037</td>\n",
       "      <td>0.021</td>\n",
       "    </tr>\n",
       "    <tr>\n",
       "      <th>oracle</th>\n",
       "      <td>0.030</td>\n",
       "      <td>0.036</td>\n",
       "      <td>0.037</td>\n",
       "      <td>0.000</td>\n",
       "      <td>0.425</td>\n",
       "    </tr>\n",
       "    <tr>\n",
       "      <th>class</th>\n",
       "      <td>0.007</td>\n",
       "      <td>0.006</td>\n",
       "      <td>0.021</td>\n",
       "      <td>0.425</td>\n",
       "      <td>0.000</td>\n",
       "    </tr>\n",
       "  </tbody>\n",
       "</table>\n",
       "</div>"
      ],
      "text/plain": [
       "         vanilla  simple    cot  oracle  class\n",
       "vanilla    0.000   0.323  0.733   0.030  0.007\n",
       "simple     0.323   0.000  0.760   0.036  0.006\n",
       "cot        0.733   0.760  0.000   0.037  0.021\n",
       "oracle     0.030   0.036  0.037   0.000  0.425\n",
       "class      0.007   0.006  0.021   0.425  0.000"
      ]
     },
     "execution_count": 6,
     "metadata": {},
     "output_type": "execute_result"
    }
   ],
   "source": [
    "wilcoxon = pairwise_wilcoxon(article_scores)\n",
    "wilcoxon"
   ]
  },
  {
   "cell_type": "markdown",
   "metadata": {},
   "source": [
    "## Correlate number of highlights to scores"
   ]
  },
  {
   "cell_type": "code",
   "execution_count": 7,
   "metadata": {},
   "outputs": [
    {
     "data": {
      "image/png": "[encoded data removed]",
      "text/plain": [
       "<Figure size 640x480 with 1 Axes>"
      ]
     },
     "metadata": {},
     "output_type": "display_data"
    }
   ],
   "source": [
    "length_ranges = {\n",
    "    0: (1, 4),\n",
    "    1: (4, 7),\n",
    "    2: (7, 10),\n",
    "    3: (10, 13),\n",
    "    4: (13, 100),\n",
    "}\n",
    "\n",
    "scores_per_highlights = get_scores_per_highlights(scores_df, length_ranges)\n",
    "dump_latex_scores(scores_per_highlights.T, 'scores_per_highlights.dat', index=True)\n",
    "plot_scores_per_highlight(scores_per_highlights, length_ranges)"
   ]
  },
  {
   "cell_type": "code",
   "execution_count": 8,
   "metadata": {},
   "outputs": [
    {
     "data": {
      "text/html": [
       "<div>\n",
       "<style scoped>\n",
       "    .dataframe tbody tr th:only-of-type {\n",
       "        vertical-align: middle;\n",
       "    }\n",
       "\n",
       "    .dataframe tbody tr th {\n",
       "        vertical-align: top;\n",
       "    }\n",
       "\n",
       "    .dataframe thead th {\n",
       "        text-align: right;\n",
       "    }\n",
       "</style>\n",
       "<table border=\"1\" class=\"dataframe\">\n",
       "  <thead>\n",
       "    <tr style=\"text-align: right;\">\n",
       "      <th></th>\n",
       "      <th>0</th>\n",
       "      <th>1</th>\n",
       "      <th>2</th>\n",
       "      <th>3</th>\n",
       "      <th>4</th>\n",
       "    </tr>\n",
       "  </thead>\n",
       "  <tbody>\n",
       "    <tr>\n",
       "      <th>vanilla</th>\n",
       "      <td>3.71</td>\n",
       "      <td>3.07</td>\n",
       "      <td>3.09</td>\n",
       "      <td>3.21</td>\n",
       "      <td>2.0</td>\n",
       "    </tr>\n",
       "    <tr>\n",
       "      <th>simple</th>\n",
       "      <td>3.77</td>\n",
       "      <td>3.1</td>\n",
       "      <td>3.2</td>\n",
       "      <td>3.08</td>\n",
       "      <td>2.25</td>\n",
       "    </tr>\n",
       "    <tr>\n",
       "      <th>cot</th>\n",
       "      <td>3.8</td>\n",
       "      <td>3.04</td>\n",
       "      <td>3.18</td>\n",
       "      <td>3.16</td>\n",
       "      <td>2.15</td>\n",
       "    </tr>\n",
       "    <tr>\n",
       "      <th>oracle</th>\n",
       "      <td>3.65</td>\n",
       "      <td>3.34</td>\n",
       "      <td>3.27</td>\n",
       "      <td>3.21</td>\n",
       "      <td>2.47</td>\n",
       "    </tr>\n",
       "    <tr>\n",
       "      <th>class</th>\n",
       "      <td>3.99</td>\n",
       "      <td>3.23</td>\n",
       "      <td>3.45</td>\n",
       "      <td>3.17</td>\n",
       "      <td>2.49</td>\n",
       "    </tr>\n",
       "    <tr>\n",
       "      <th>length</th>\n",
       "      <td>27</td>\n",
       "      <td>48</td>\n",
       "      <td>24</td>\n",
       "      <td>11</td>\n",
       "      <td>9</td>\n",
       "    </tr>\n",
       "  </tbody>\n",
       "</table>\n",
       "</div>"
      ],
      "text/plain": [
       "            0     1     2     3     4\n",
       "vanilla  3.71  3.07  3.09  3.21   2.0\n",
       "simple   3.77   3.1   3.2  3.08  2.25\n",
       "cot       3.8  3.04  3.18  3.16  2.15\n",
       "oracle   3.65  3.34  3.27  3.21  2.47\n",
       "class    3.99  3.23  3.45  3.17  2.49\n",
       "length     27    48    24    11     9"
      ]
     },
     "execution_count": 8,
     "metadata": {},
     "output_type": "execute_result"
    }
   ],
   "source": [
    "scores_per_highlights"
   ]
  },
  {
   "cell_type": "markdown",
   "metadata": {},
   "source": [
    "## Correlate automated and crowd evaluation"
   ]
  },
  {
   "cell_type": "code",
   "execution_count": 9,
   "metadata": {},
   "outputs": [
    {
     "data": {
      "text/html": [
       "<div>\n",
       "<style scoped>\n",
       "    .dataframe tbody tr th:only-of-type {\n",
       "        vertical-align: middle;\n",
       "    }\n",
       "\n",
       "    .dataframe tbody tr th {\n",
       "        vertical-align: top;\n",
       "    }\n",
       "\n",
       "    .dataframe thead th {\n",
       "        text-align: right;\n",
       "    }\n",
       "</style>\n",
       "<table border=\"1\" class=\"dataframe\">\n",
       "  <thead>\n",
       "    <tr style=\"text-align: right;\">\n",
       "      <th></th>\n",
       "      <th>vanilla</th>\n",
       "      <th>simple</th>\n",
       "      <th>cot</th>\n",
       "      <th>oracle</th>\n",
       "      <th>class</th>\n",
       "    </tr>\n",
       "  </thead>\n",
       "  <tbody>\n",
       "    <tr>\n",
       "      <th>length</th>\n",
       "      <td>0.05</td>\n",
       "      <td>0.01</td>\n",
       "      <td>-0.12</td>\n",
       "      <td>0.02</td>\n",
       "      <td>0.05</td>\n",
       "    </tr>\n",
       "    <tr>\n",
       "      <th>moral_count</th>\n",
       "      <td>-0.19</td>\n",
       "      <td>-0.02</td>\n",
       "      <td>-0.18</td>\n",
       "      <td>-0.11</td>\n",
       "      <td>0.03</td>\n",
       "    </tr>\n",
       "    <tr>\n",
       "      <th>moral_div</th>\n",
       "      <td>-0.22</td>\n",
       "      <td>-0.2</td>\n",
       "      <td>-0.12</td>\n",
       "      <td>0.06</td>\n",
       "      <td>-0.07</td>\n",
       "    </tr>\n",
       "    <tr>\n",
       "      <th>summaC</th>\n",
       "      <td>-0.08</td>\n",
       "      <td>-0.15</td>\n",
       "      <td>0.15</td>\n",
       "      <td>0.06</td>\n",
       "      <td>0.28</td>\n",
       "    </tr>\n",
       "    <tr>\n",
       "      <th>BLANC</th>\n",
       "      <td>0.23</td>\n",
       "      <td>0.25</td>\n",
       "      <td>0.27</td>\n",
       "      <td>0.22</td>\n",
       "      <td>0.16</td>\n",
       "    </tr>\n",
       "    <tr>\n",
       "      <th>QaFactEval</th>\n",
       "      <td>0.05</td>\n",
       "      <td>0.28</td>\n",
       "      <td>0.22</td>\n",
       "      <td>0.02</td>\n",
       "      <td>0.17</td>\n",
       "    </tr>\n",
       "  </tbody>\n",
       "</table>\n",
       "</div>"
      ],
      "text/plain": [
       "            vanilla simple   cot oracle class\n",
       "length         0.05   0.01 -0.12   0.02  0.05\n",
       "moral_count   -0.19  -0.02 -0.18  -0.11  0.03\n",
       "moral_div     -0.22   -0.2 -0.12   0.06 -0.07\n",
       "summaC        -0.08  -0.15  0.15   0.06  0.28\n",
       "BLANC          0.23   0.25  0.27   0.22  0.16\n",
       "QaFactEval     0.05   0.28  0.22   0.02  0.17"
      ]
     },
     "execution_count": 9,
     "metadata": {},
     "output_type": "execute_result"
    }
   ],
   "source": [
    "spearman_matrix = get_spearman_correlation('../results/llama_345_test_results.pickle', article_scores)\n",
    "spearman_matrix"
   ]
  },
  {
   "cell_type": "markdown",
   "metadata": {},
   "source": [
    "## Filter where there was a moral word in the highlight that was preserved in the summary"
   ]
  },
  {
   "cell_type": "code",
   "execution_count": null,
   "metadata": {},
   "outputs": [],
   "source": [
    "from moral_summarization.data_utils import load_results_df, print_mean_max\n",
    "from moral_summarization.crowd import filter_scores_preserve_moral_words\n",
    "\n",
    "literal_eval_columns = ['predicted_words', 'labeled_words']\n",
    "results_class = load_results_df('../results/predictions_with_words.csv', literal_eval_columns)\n",
    "summaries = pd.read_csv('../crowd_evaluation/Meta-Llama-3-70B-Instruct_345_summaries.csv', index_col=0)\n",
    "\n",
    "filtered_scores = filter_scores_preserve_moral_words(scores_df, results_class, summaries)"
   ]
  },
  {
   "cell_type": "code",
   "execution_count": 11,
   "metadata": {},
   "outputs": [],
   "source": [
    "filtered_article_scores = get_article_scores(filtered_scores)"
   ]
  },
  {
   "cell_type": "code",
   "execution_count": 12,
   "metadata": {},
   "outputs": [
    {
     "name": "stdout",
     "output_type": "stream",
     "text": [
      "vanilla: 3.63\n",
      "=====================================\n",
      "simple: 3.54\n",
      "=====================================\n",
      "cot: 3.66\n",
      "=====================================\n",
      "oracle: 3.76\n",
      "=====================================\n",
      "class: 3.71\n",
      "=====================================\n"
     ]
    }
   ],
   "source": [
    "print_means(filtered_article_scores)"
   ]
  },
  {
   "cell_type": "code",
   "execution_count": 13,
   "metadata": {},
   "outputs": [
    {
     "name": "stdout",
     "output_type": "stream",
     "text": [
      "vanilla: 1.08\n",
      "=====================================\n",
      "simple: 1.03\n",
      "=====================================\n",
      "cot: 1.01\n",
      "=====================================\n",
      "oracle: 0.84\n",
      "=====================================\n",
      "class: 1.01\n",
      "=====================================\n"
     ]
    }
   ],
   "source": [
    "print_std(filtered_article_scores)"
   ]
  },
  {
   "cell_type": "code",
   "execution_count": 14,
   "metadata": {},
   "outputs": [
    {
     "data": {
      "text/plain": [
       "0.39086294416243667"
      ]
     },
     "execution_count": 14,
     "metadata": {},
     "output_type": "execute_result"
    }
   ],
   "source": [
    "(2.74 - 1.97) / 1.97"
   ]
  },
  {
   "cell_type": "code",
   "execution_count": 15,
   "metadata": {},
   "outputs": [
    {
     "name": "stdout",
     "output_type": "stream",
     "text": [
      "vanilla\n",
      "Max number of highlights: 7\n",
      "Mean number of highlights: 1.97 \\pm 1.65\n",
      "=====================================\n",
      "simple\n",
      "Max number of highlights: 7\n",
      "Mean number of highlights: 2.19 \\pm 1.83\n",
      "=====================================\n",
      "cot\n",
      "Max number of highlights: 7\n",
      "Mean number of highlights: 2.31 \\pm 1.85\n",
      "=====================================\n",
      "oracle\n",
      "Max number of highlights: 9\n",
      "Mean number of highlights: 2.74 \\pm 2.15\n",
      "=====================================\n",
      "class\n",
      "Max number of highlights: 7\n",
      "Mean number of highlights: 2.44 \\pm 1.89\n",
      "=====================================\n"
     ]
    }
   ],
   "source": [
    "print_mean_max(filtered_scores, print_methods=methods)"
   ]
  },
  {
   "cell_type": "markdown",
   "metadata": {},
   "source": [
    "## Filter where there was a moral word in the highlight that was inside of a quote and preserved in the summary"
   ]
  },
  {
   "cell_type": "code",
   "execution_count": null,
   "metadata": {},
   "outputs": [],
   "source": [
    "from moral_summarization.data_utils import *\n",
    "from moral_summarization.utils import *\n",
    "from moral_summarization.crowd import *\n",
    "\n",
    "literal_eval_columns = ['predicted_words', 'labeled_words']\n",
    "results_class = load_results_df('../results/predictions_with_words.csv', literal_eval_columns)\n",
    "summaries = pd.read_csv('../crowd_evaluation/Meta-Llama-3-70B-Instruct_345_summaries.csv', index_col=0)\n",
    "\n",
    "filtered_scores, quotes_with_highlights = filter_scores_preserve_moral_words(scores_df, results_class, summaries, filter_quotes=True)\n",
    "filtered_article_scores = get_article_scores(filtered_scores)"
   ]
  },
  {
   "cell_type": "code",
   "execution_count": 17,
   "metadata": {},
   "outputs": [
    {
     "name": "stdout",
     "output_type": "stream",
     "text": [
      "highlights_with_quotes\n",
      "Max number of highlights: 7\n",
      "Mean number of highlights: 1.34 \\pm 1.54\n",
      "=====================================\n"
     ]
    }
   ],
   "source": [
    "print_mean_max(quotes_with_highlights, print_methods=['highlights_with_quotes'])"
   ]
  },
  {
   "cell_type": "code",
   "execution_count": 18,
   "metadata": {},
   "outputs": [
    {
     "name": "stdout",
     "output_type": "stream",
     "text": [
      "vanilla: 3.51\n",
      "=====================================\n",
      "simple: 3.65\n",
      "=====================================\n",
      "cot: 3.44\n",
      "=====================================\n",
      "oracle: 3.63\n",
      "=====================================\n",
      "class: 3.57\n",
      "=====================================\n",
      "vanilla: 1.30\n",
      "=====================================\n",
      "simple: 1.40\n",
      "=====================================\n",
      "cot: 1.49\n",
      "=====================================\n",
      "oracle: 1.03\n",
      "=====================================\n",
      "class: 1.21\n",
      "=====================================\n"
     ]
    }
   ],
   "source": [
    "print_means(filtered_article_scores)\n",
    "print_std(filtered_article_scores)"
   ]
  },
  {
   "cell_type": "code",
   "execution_count": 19,
   "metadata": {},
   "outputs": [
    {
     "name": "stdout",
     "output_type": "stream",
     "text": [
      "vanilla\n",
      "Max number of highlights: 4\n",
      "Mean number of highlights: 0.39 \\pm 0.72\n",
      "=====================================\n",
      "simple\n",
      "Max number of highlights: 4\n",
      "Mean number of highlights: 0.42 \\pm 0.76\n",
      "=====================================\n",
      "cot\n",
      "Max number of highlights: 4\n",
      "Mean number of highlights: 0.46 \\pm 0.84\n",
      "=====================================\n",
      "oracle\n",
      "Max number of highlights: 4\n",
      "Mean number of highlights: 0.55 \\pm 0.93\n",
      "=====================================\n",
      "class\n",
      "Max number of highlights: 4\n",
      "Mean number of highlights: 0.52 \\pm 0.91\n",
      "=====================================\n"
     ]
    }
   ],
   "source": [
    "print_mean_max(filtered_scores, print_methods=methods)"
   ]
  },
  {
   "cell_type": "markdown",
   "metadata": {},
   "source": [
    "## Count number of quotes in summaries"
   ]
  },
  {
   "cell_type": "code",
   "execution_count": null,
   "metadata": {},
   "outputs": [],
   "source": [
    "from moral_summarization.data_utils import *\n",
    "\n",
    "summaries = pd.read_csv('../crowd_evaluation/Meta-Llama-3-70B-Instruct_345_summaries.csv', index_col=0)\n",
    "\n",
    "quotes_df, moral_quotes_df = count_quotes_in_summaries(summaries)"
   ]
  },
  {
   "cell_type": "code",
   "execution_count": 21,
   "metadata": {},
   "outputs": [
    {
     "name": "stdout",
     "output_type": "stream",
     "text": [
      "vanilla\n",
      "Max number of highlights: 7\n",
      "Mean number of highlights: 1.15 \\pm 1.41\n",
      "=====================================\n",
      "simple\n",
      "Max number of highlights: 5\n",
      "Mean number of highlights: 1.32 \\pm 1.27\n",
      "=====================================\n",
      "cot\n",
      "Max number of highlights: 11\n",
      "Mean number of highlights: 3.98 \\pm 3.15\n",
      "=====================================\n",
      "oracle\n",
      "Max number of highlights: 16\n",
      "Mean number of highlights: 3.30 \\pm 3.37\n",
      "=====================================\n",
      "class\n",
      "Max number of highlights: 17\n",
      "Mean number of highlights: 3.37 \\pm 3.46\n",
      "=====================================\n",
      "article_text\n",
      "Max number of highlights: 17\n",
      "Mean number of highlights: 4.27 \\pm 4.39\n",
      "=====================================\n"
     ]
    }
   ],
   "source": [
    "print_mean_max(quotes_df, print_methods=prompt_types + ['article_text'])"
   ]
  },
  {
   "cell_type": "code",
   "execution_count": 22,
   "metadata": {},
   "outputs": [
    {
     "name": "stdout",
     "output_type": "stream",
     "text": [
      "vanilla\n",
      "Max number of highlights: 3\n",
      "Mean number of highlights: 0.38 \\pm 0.78\n",
      "=====================================\n",
      "simple\n",
      "Max number of highlights: 4\n",
      "Mean number of highlights: 0.55 \\pm 0.92\n",
      "=====================================\n",
      "cot\n",
      "Max number of highlights: 7\n",
      "Mean number of highlights: 1.73 \\pm 2.07\n",
      "=====================================\n",
      "oracle\n",
      "Max number of highlights: 9\n",
      "Mean number of highlights: 1.82 \\pm 2.57\n",
      "=====================================\n",
      "class\n",
      "Max number of highlights: 8\n",
      "Mean number of highlights: 1.40 \\pm 2.10\n",
      "=====================================\n",
      "article_text\n",
      "Max number of highlights: 10\n",
      "Mean number of highlights: 2.33 \\pm 2.95\n",
      "=====================================\n"
     ]
    }
   ],
   "source": [
    "print_mean_max(moral_quotes_df, print_methods=prompt_types + ['article_text'])"
   ]
  },
  {
   "cell_type": "markdown",
   "metadata": {},
   "source": [
    "## Count percentage of quotes in articles"
   ]
  },
  {
   "cell_type": "code",
   "execution_count": null,
   "metadata": {},
   "outputs": [],
   "source": [
    "from moral_summarization.data_utils import *\n",
    "\n",
    "percentage_moral_in_quotes, percentage_quotes_in_text = distribution_quotes_in_articles(only_test_set=True)"
   ]
  },
  {
   "cell_type": "code",
   "execution_count": 26,
   "metadata": {},
   "outputs": [
    {
     "name": "stdout",
     "output_type": "stream",
     "text": [
      "0.09305270027716046\n",
      "0.1557256906806603\n"
     ]
    }
   ],
   "source": [
    "print(np.mean(percentage_quotes_in_text))\n",
    "print(np.mean(percentage_moral_in_quotes))"
   ]
  }
 ],
 "metadata": {
  "kernelspec": {
   "display_name": ".summarization-env",
   "language": "python",
   "name": "python3"
  },
  "language_info": {
   "codemirror_mode": {
    "name": "ipython",
    "version": 3
   },
   "file_extension": ".py",
   "mimetype": "text/x-python",
   "name": "python",
   "nbconvert_exporter": "python",
   "pygments_lexer": "ipython3",
   "version": "3.12.4"
  }
 },
 "nbformat": 4,
 "nbformat_minor": 2
}
