{
 "cells": [
  {
   "cell_type": "code",
   "execution_count": null,
   "metadata": {},
   "outputs": [],
   "source": [
    "import sys\n",
    "sys.path.append('/home/redacted/dev/moral-summarization')\n",
    "\n",
    "from moral_summarization.data_utils import *\n",
    "\n",
    "results_dir = '../results/final_prompts'\n",
    "extra_metrics = []\n",
    "model = 'Meta-Llama-3-70B-Instruct'\n",
    "seed = '345'\n",
    "\n",
    "article_list = 'articles_in_test_set.txt'\n",
    "with open(article_list) as f:\n",
    "    article_list = f.read().splitlines()"
   ]
  },
  {
   "cell_type": "code",
   "execution_count": 5,
   "metadata": {},
   "outputs": [],
   "source": [
    "article_name = [article_name.split('/')[-1] for article_name in article_list]\n",
    "dataset = [article_name.split('/')[0] for article_name in article_list]\n",
    "\n",
    "summaries_df = pd.DataFrame(columns=['dataset', 'article_text']+prompt_types, index=article_name)\n",
    "\n",
    "for article, dataset in zip(article_name, dataset):\n",
    "    summaries_df.loc[article, 'dataset'] = dataset\n",
    "\n",
    "    article_text = load_article(article, dataset)\n",
    "    summaries_df.loc[article, 'article_text'] = article_text\n",
    "\n",
    "    article_path = os.path.join(results_dir, dataset, article)\n",
    "\n",
    "    # Get all files with responses\n",
    "    responses_files = [file_path for file_path in os.listdir(article_path) \\\n",
    "                        if 'response' in file_path]\n",
    "\n",
    "    for prompt_type in prompt_types:\n",
    "        # get all the files with this model and this prompt style\n",
    "        response_files = [file_path for file_path in responses_files \\\n",
    "                            if model in file_path \\\n",
    "                            and prompt_type in file_path \\\n",
    "                            and seed in file_path]\n",
    "        assert len(response_files) == 1, f'Expected 1 response file, got {len(response_files)}'\n",
    "        response_file = response_files[0]\n",
    "\n",
    "        response_path = os.path.join(article_path, response_file)\n",
    "        summary_text = get_summary_from_response(response_path)\n",
    "        summaries_df.loc[article, prompt_type] = summary_text"
   ]
  },
  {
   "cell_type": "code",
   "execution_count": 7,
   "metadata": {},
   "outputs": [],
   "source": [
    "summaries_df.to_csv(f'../results/{model}_{seed}_summaries.csv', index=True)"
   ]
  }
 ],
 "metadata": {
  "kernelspec": {
   "display_name": ".summarization-env",
   "language": "python",
   "name": "python3"
  },
  "language_info": {
   "codemirror_mode": {
    "name": "ipython",
    "version": 3
   },
   "file_extension": ".py",
   "mimetype": "text/x-python",
   "name": "python",
   "nbconvert_exporter": "python",
   "pygments_lexer": "ipython3",
   "version": "3.12.3"
  }
 },
 "nbformat": 4,
 "nbformat_minor": 2
}
