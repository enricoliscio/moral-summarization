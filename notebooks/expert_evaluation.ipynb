{
 "cells": [
  {
   "cell_type": "code",
   "execution_count": null,
   "metadata": {},
   "outputs": [],
   "source": [
    "import sys\n",
    "sys.path.append('/home/redacted/dev/moral-summarization')\n",
    "from moral_summarization.experts import create_expert_task\n",
    "\n",
    "import pandas as pd"
   ]
  },
  {
   "cell_type": "code",
   "execution_count": null,
   "metadata": {},
   "outputs": [],
   "source": [
    "summaries = pd.read_csv('../crowd_evaluation/Meta-Llama-3-70B-Instruct_345_summaries.csv', index_col=0)\n",
    "assignment = pd.read_csv('../crowd_evaluation/articles_experts.csv', index_col='name')\n",
    "base_dir = '../crowd_evaluation/expert_tasks'"
   ]
  },
  {
   "cell_type": "code",
   "execution_count": null,
   "metadata": {},
   "outputs": [],
   "source": [
    "create_expert_task(assignment, summaries, base_dir)"
   ]
  }
 ],
 "metadata": {
  "kernelspec": {
   "display_name": ".summarization-env",
   "language": "python",
   "name": "python3"
  },
  "language_info": {
   "codemirror_mode": {
    "name": "ipython",
    "version": 3
   },
   "file_extension": ".py",
   "mimetype": "text/x-python",
   "name": "python",
   "nbconvert_exporter": "python",
   "pygments_lexer": "ipython3",
   "version": "3.12.4"
  }
 },
 "nbformat": 4,
 "nbformat_minor": 2
}
